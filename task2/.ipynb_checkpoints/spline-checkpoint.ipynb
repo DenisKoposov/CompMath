{
 "cells": [
  {
   "cell_type": "markdown",
   "metadata": {},
   "source": [
    "### 1. Calculating $P_{N}^{(L)}$"
   ]
  },
  {
   "cell_type": "code",
   "execution_count": 13,
   "metadata": {
    "collapsed": false
   },
   "outputs": [],
   "source": [
    "import numpy as np\n",
    "import random\n",
    "\n",
    "def lagrange_polinom(N, x, f, values):\n",
    "    \n",
    "    ans = []\n",
    "    for t in values:\n",
    "        s = 0\n",
    "        for k in xrange(N + 1):\n",
    "            tmp = f[k]\n",
    "            for l in xrange(N + 1):\n",
    "                if k != l:\n",
    "                    tmp *= ( t - x[l] ) / ( x[k] - x[l] )\n",
    "            s += tmp\n",
    "        ans.append(s)\n",
    "    \n",
    "    return ans"
   ]
  },
  {
   "cell_type": "markdown",
   "metadata": {},
   "source": [
    "### 2. Calculating $P_{N}^{(N)}$ "
   ]
  },
  {
   "cell_type": "code",
   "execution_count": 14,
   "metadata": {
    "collapsed": false
   },
   "outputs": [],
   "source": [
    "# Calculating divided differences\n",
    "def calculate_div_dif(N, x, f):\n",
    "    \n",
    "    f_div = [f]\n",
    "    for i in xrange(1, N + 1):\n",
    "        f_div.append([])\n",
    "        for j in xrange(0, N + 1 - i):\n",
    "            f_div[i].append( ( f_div[i - 1][j + 1] - f_div[i - 1][j] ) / ( x[j + i] - x[j] ) )\n",
    "            \n",
    "    return f_div\n",
    "\n",
    "# Calculating the answer\n",
    "def newton_polinom(N, x, f_div, values):\n",
    "    \n",
    "    ans = []\n",
    "    for t in values:\n",
    "        tmp = 0\n",
    "        mul = 1\n",
    "        for i in xrange(N + 1):\n",
    "            \n",
    "            if i - 1 >= 0:\n",
    "                mul *= t - x[i - 1]\n",
    "                \n",
    "            tmp += f_div[i][0] * mul\n",
    "        \n",
    "        ans.append(tmp)\n",
    "    \n",
    "    return ans"
   ]
  },
  {
   "cell_type": "markdown",
   "metadata": {},
   "source": [
    "### 3. Calculating $S_{3}$"
   ]
  },
  {
   "cell_type": "code",
   "execution_count": 108,
   "metadata": {
    "collapsed": false
   },
   "outputs": [],
   "source": [
    "def calculate_step(N, x):\n",
    "    return min([ ( x[i + 1] - x[i] ) / float(10) for i in xrange(N) ])\n",
    "\n",
    "def tridiag_system_solve(N, a, c, b, d):\n",
    "    p = [c[0]] + [0] * (N - 1)\n",
    "    q = [d[0]] + [0] * (N - 1)\n",
    "    for i in xrange(1, N):\n",
    "        p[i] = c[i] - a[i-1] * b[i-1] / p[i-1]\n",
    "        q[i] = d[i] - a[i-1] * q[i-1] / p[i-1]  \n",
    "\n",
    "    M = [0] * (N - 1) + [q[N-1] / p[N-1]] \n",
    "    for i in reversed(xrange(0, N-1)):\n",
    "        M[i] = (q[i] - b[i] * M[i+1]) / p[i]\n",
    "    \n",
    "    return M\n",
    "\n",
    "def get_spline_coefficients(N, x, f):\n",
    "    a = f\n",
    "    c = [0] + tridiag_system_solve(N - 2, [(x[i+1] - x[i]) for i in xrange(1, N-2)],\n",
    "        [ 2 * (x[i+2] - x[i]) for i in xrange(0, N-2)],\n",
    "        [x[i+2] - x[i+1] for i in xrange(0, N-3)],\n",
    "        [6 * ((f[i+2] - f[i+1])/ (x[i+2] - x[i+1]) - (f[i+1] - f[i])/(x[i+1] - x[i])) for i in xrange(0, N-2)])+[0]\n",
    "    d = [0] + [(c[i] - c[i-1]) / (x[i] - x[i-1]) for i in xrange(1, N)]\n",
    "    b = [0] + [(f[i+1] - f[i]) / (x[i+1] - x[i]) + (x[i+1] - x[i]) * (2 * c[i+1] + c[i]) / 6 for i in xrange(0, N-1)]\n",
    "    return [a, b, c, d]\n",
    "   \n",
    "def calculate_spline(N, a, b, c, d, x, h):\n",
    "\n",
    "    ans = []\n",
    "    #points = []\n",
    "    E = 1e-5\n",
    "    for i in xrange(N):\n",
    "        t = x[i]\n",
    "        while abs(t - x[i+1]) > E:\n",
    "            #points.append(t)\n",
    "            dx = t - x[i]\n",
    "            ans.append(a[i] + b[i] * dx + c[i] / 2 * dx**2 + d[i] / 6 * dx**3)\n",
    "            t += h\n",
    "            \n",
    "    #points.append(x[i+1])\n",
    "    ans.append(a[i+1])\n",
    "    #points = [ round(i, 2) for i in points ]\n",
    "    #print points, len(points)\n",
    "    return ans"
   ]
  },
  {
   "cell_type": "markdown",
   "metadata": {},
   "source": [
    "### 4. Getting data from file"
   ]
  },
  {
   "cell_type": "code",
   "execution_count": 89,
   "metadata": {
    "collapsed": false
   },
   "outputs": [
    {
     "name": "stdout",
     "output_type": "stream",
     "text": [
      "3 \n",
      "[1.0, 5.0, 7.0, 8.0] \n",
      "[2.0, 2.0, 8.0, 10.0]\n"
     ]
    }
   ],
   "source": [
    "f_in = open(\"data.txt\", \"r\")\n",
    "\n",
    "N = int(f_in.readline()) - 1\n",
    "x = []\n",
    "f = []\n",
    "\n",
    "for line in f_in:\n",
    "    tmp = line.split(' ')\n",
    "    x.append(float(tmp[0]))\n",
    "    f.append(float(tmp[1]))\n",
    "print N, \"\\n\", x, \"\\n\", f"
   ]
  },
  {
   "cell_type": "markdown",
   "metadata": {},
   "source": [
    "### 4*. Generating data"
   ]
  },
  {
   "cell_type": "code",
   "execution_count": 50,
   "metadata": {
    "collapsed": false
   },
   "outputs": [
    {
     "name": "stdout",
     "output_type": "stream",
     "text": [
      "[-14, -13, -11, -9, -8, -5] 6\n",
      "[-4, 0, 11, -11, -10, 3] 6\n"
     ]
    }
   ],
   "source": [
    "N = random.randint(4, 16)\n",
    "\n",
    "x = [0] * (N + 1)\n",
    "x[0] = random.randint(-32, 32)\n",
    "for i in xrange(1, N+1):\n",
    "    x[i] = random.randint(1, 3) + x[i-1]\n",
    "    \n",
    "f = [ random.randint(-16, 16) for i in xrange(N+1) ]\n",
    "print x, len(x)\n",
    "print f, len(f)"
   ]
  },
  {
   "cell_type": "markdown",
   "metadata": {},
   "source": [
    "### 4**. Generating by function"
   ]
  },
  {
   "cell_type": "code",
   "execution_count": 114,
   "metadata": {
    "collapsed": false
   },
   "outputs": [
    {
     "name": "stdout",
     "output_type": "stream",
     "text": [
      "[-32. -31. -29. -26. -24. -21. -18.] 7\n",
      "[-32768. -29791. -24389. -17576. -13824.  -9261.  -5832.] 7\n"
     ]
    }
   ],
   "source": [
    "N = random.randint(4, 16)\n",
    "x = np.ndarray(N+1)\n",
    "x[0] = random.randint(-32, 32)\n",
    "for i in xrange(1, N+1):\n",
    "    x[i] = random.randint(1, 3) + x[i-1]\n",
    "f = x ** 3\n",
    "print x, len(x)\n",
    "print f, len(f)"
   ]
  },
  {
   "cell_type": "markdown",
   "metadata": {},
   "source": [
    "### 5. Results"
   ]
  },
  {
   "cell_type": "code",
   "execution_count": 115,
   "metadata": {
    "collapsed": false
   },
   "outputs": [
    {
     "data": {
      "image/png": "[encoded data removed]",
      "text/plain": [
       "<matplotlib.figure.Figure at 0x7f1d4637f710>"
      ]
     },
     "metadata": {},
     "output_type": "display_data"
    }
   ],
   "source": [
    "import matplotlib.pyplot as plt\n",
    "%matplotlib inline\n",
    "\n",
    "h = calculate_step(N, x)\n",
    "points = np.arange(x[0], x[N]+0.001, h)\n",
    "polinom_L = lagrange_polinom(N, x, f, points)\n",
    "polinom_N = newton_polinom(N, x, calculate_div_dif(N, x, f), points)\n",
    "sp_coef = get_spline_coefficients(N, x, f)\n",
    "\n",
    "plt.plot(points, polinom_L, points, polinom_N, points, calculate_spline(N,\n",
    "                                                                        sp_coef[0],\n",
    "                                                                        sp_coef[1],\n",
    "                                                                        sp_coef[2],\n",
    "                                                                        sp_coef[3],\n",
    "                                                                        x, h), x, f)\n",
    "plt.grid(True)\n",
    "plt.show()"
   ]
  },
  {
   "cell_type": "code",
   "execution_count": null,
   "metadata": {
    "collapsed": true
   },
   "outputs": [],
   "source": []
  },
  {
   "cell_type": "code",
   "execution_count": null,
   "metadata": {
    "collapsed": true
   },
   "outputs": [],
   "source": []
  }
 ],
 "metadata": {
  "kernelspec": {
   "display_name": "Python 2",
   "language": "python",
   "name": "python2"
  },
  "language_info": {
   "codemirror_mode": {
    "name": "ipython",
    "version": 2
   },
   "file_extension": ".py",
   "mimetype": "text/x-python",
   "name": "python",
   "nbconvert_exporter": "python",
   "pygments_lexer": "ipython2",
   "version": "2.7.12"
  }
 },
 "nbformat": 4,
 "nbformat_minor": 1
}
